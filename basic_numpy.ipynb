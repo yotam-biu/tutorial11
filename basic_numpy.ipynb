{
 "cells": [
  {
   "cell_type": "markdown",
   "id": "e8e3e1c6",
   "metadata": {},
   "source": [
    "# Basic Numpy"
   ]
  },
  {
   "cell_type": "code",
   "execution_count": null,
   "id": "fc54a18f",
   "metadata": {},
   "outputs": [],
   "source": [
    "import numpy as np"
   ]
  },
  {
   "cell_type": "markdown",
   "id": "f9feb106",
   "metadata": {},
   "source": [
    "## Data Type"
   ]
  },
  {
   "cell_type": "code",
   "execution_count": null,
   "id": "41f350e7",
   "metadata": {},
   "outputs": [],
   "source": [
    "arr_int8 = np.array([1,127,128])#, dtype=np.int16)\n",
    "arr_int8"
   ]
  },
  {
   "cell_type": "code",
   "execution_count": null,
   "id": "96953cae",
   "metadata": {},
   "outputs": [],
   "source": [
    "arr_uint8 = np.array([1,127,128,255,256], dtype=np.uint8)\n",
    "arr_uint8"
   ]
  },
  {
   "cell_type": "code",
   "execution_count": null,
   "id": "5cf533ac",
   "metadata": {},
   "outputs": [],
   "source": [
    "arr_float16 = np.array([1,10**4,10**5], dtype=np.float16)\n",
    "arr_float16"
   ]
  },
  {
   "cell_type": "code",
   "execution_count": null,
   "id": "508ee9fa",
   "metadata": {},
   "outputs": [],
   "source": [
    "arr_float32 = np.array([1,10**4,10**5], dtype=np.float32)\n",
    "arr_float32"
   ]
  },
  {
   "cell_type": "markdown",
   "id": "3276d72e",
   "metadata": {},
   "source": [
    "## Creating Array"
   ]
  },
  {
   "cell_type": "code",
   "execution_count": null,
   "id": "30faf21e",
   "metadata": {},
   "outputs": [],
   "source": [
    "range_arr = np.arange(1,20,2)\n",
    "range_arr"
   ]
  },
  {
   "cell_type": "code",
   "execution_count": null,
   "id": "e8b863a0",
   "metadata": {},
   "outputs": [],
   "source": [
    "range_obj = range(1,20,2)\n",
    "range_obj"
   ]
  },
  {
   "cell_type": "code",
   "execution_count": null,
   "id": "ad5db6fb",
   "metadata": {},
   "outputs": [],
   "source": [
    "range_list = list(range_obj)\n",
    "range_list"
   ]
  },
  {
   "cell_type": "code",
   "execution_count": null,
   "id": "bd6ae30d",
   "metadata": {},
   "outputs": [],
   "source": [
    "zeros = np.zeros(2)\n",
    "zeros, zeros.dtype"
   ]
  },
  {
   "cell_type": "code",
   "execution_count": null,
   "id": "38d89b44",
   "metadata": {},
   "outputs": [],
   "source": [
    "zeros = np.zeros_like(range_arr)\n",
    "zeros, zeros.dtype"
   ]
  },
  {
   "cell_type": "markdown",
   "id": "816b0ca5",
   "metadata": {},
   "source": [
    "## Mathematical Operation"
   ]
  },
  {
   "cell_type": "code",
   "execution_count": null,
   "id": "28ac310a",
   "metadata": {},
   "outputs": [],
   "source": [
    "range_list + 1"
   ]
  },
  {
   "cell_type": "code",
   "execution_count": null,
   "id": "11b0e51f",
   "metadata": {},
   "outputs": [],
   "source": [
    "range_arr + 1"
   ]
  },
  {
   "cell_type": "code",
   "execution_count": null,
   "id": "75fcdf4b",
   "metadata": {},
   "outputs": [],
   "source": [
    "range_list + range_list"
   ]
  },
  {
   "cell_type": "code",
   "execution_count": null,
   "id": "b2c65252",
   "metadata": {},
   "outputs": [],
   "source": [
    "range_arr + range_arr"
   ]
  },
  {
   "cell_type": "code",
   "execution_count": null,
   "id": "164f3b24",
   "metadata": {},
   "outputs": [],
   "source": [
    "range_arr**2"
   ]
  },
  {
   "cell_type": "code",
   "execution_count": null,
   "id": "50be1d3d",
   "metadata": {},
   "outputs": [],
   "source": [
    "square_arr**2**2**2"
   ]
  },
  {
   "cell_type": "code",
   "execution_count": null,
   "id": "0a97d1d5",
   "metadata": {},
   "outputs": [],
   "source": [
    "np.array([2,4,8,16,32,64,128], dtype=np.int8)"
   ]
  },
  {
   "cell_type": "markdown",
   "id": "87b70c0d",
   "metadata": {},
   "source": [
    "## Change Value in Array"
   ]
  },
  {
   "cell_type": "code",
   "execution_count": null,
   "id": "bb52817b",
   "metadata": {},
   "outputs": [],
   "source": [
    "my_arr = np.array([1,2,3])\n",
    "my_arr[1] = 20\n",
    "my_arr"
   ]
  },
  {
   "cell_type": "code",
   "execution_count": null,
   "id": "af94434e",
   "metadata": {},
   "outputs": [],
   "source": [
    "my_arr = np.array([1,2,3])\n",
    "my_arr[1:] = [20,30]\n",
    "my_arr"
   ]
  },
  {
   "cell_type": "code",
   "execution_count": null,
   "id": "b09870bc",
   "metadata": {},
   "outputs": [],
   "source": [
    "my_arr = np.array([1,2,3])\n",
    "my_arr = 20\n",
    "my_arr"
   ]
  },
  {
   "cell_type": "code",
   "execution_count": null,
   "id": "43432e47",
   "metadata": {},
   "outputs": [],
   "source": [
    "my_arr = np.array([1,2,3])\n",
    "my_arr[1:] = 20\n",
    "my_arr"
   ]
  },
  {
   "cell_type": "code",
   "execution_count": null,
   "id": "21ca646b",
   "metadata": {},
   "outputs": [],
   "source": [
    "my_arr = np.array([1,2,3])\n",
    "my_arr[:] = 20\n",
    "my_arr"
   ]
  },
  {
   "cell_type": "code",
   "execution_count": null,
   "id": "9af375e3",
   "metadata": {},
   "outputs": [],
   "source": [
    "range_arr > 10"
   ]
  },
  {
   "cell_type": "code",
   "execution_count": null,
   "id": "6c50571d",
   "metadata": {},
   "outputs": [],
   "source": [
    "range_arr[range_arr > 10]"
   ]
  },
  {
   "cell_type": "code",
   "execution_count": null,
   "id": "f18d84fb",
   "metadata": {},
   "outputs": [],
   "source": [
    "range_arr[range_arr > 10] = 100\n",
    "range_arr"
   ]
  },
  {
   "cell_type": "markdown",
   "id": "5b4107cf",
   "metadata": {},
   "source": [
    "# Reduce array dimension"
   ]
  },
  {
   "cell_type": "code",
   "execution_count": null,
   "id": "9d6d472d",
   "metadata": {},
   "outputs": [],
   "source": [
    "mat = np.array([[1,2,3],[10,20,30],[100,200,300]])\n",
    "np.sum(mat, axis=0)"
   ]
  },
  {
   "cell_type": "code",
   "execution_count": null,
   "id": "96f79a84",
   "metadata": {},
   "outputs": [],
   "source": [
    "np.sum(mat, axis=1)"
   ]
  },
  {
   "cell_type": "code",
   "execution_count": null,
   "id": "a17114fa",
   "metadata": {},
   "outputs": [],
   "source": [
    "np.mean(mat, axis=1)"
   ]
  },
  {
   "cell_type": "code",
   "execution_count": null,
   "id": "9b5958d2",
   "metadata": {},
   "outputs": [],
   "source": []
  }
 ],
 "metadata": {
  "kernelspec": {
   "display_name": "Python 3 (ipykernel)",
   "language": "python",
   "name": "python3"
  },
  "language_info": {
   "codemirror_mode": {
    "name": "ipython",
    "version": 3
   },
   "file_extension": ".py",
   "mimetype": "text/x-python",
   "name": "python",
   "nbconvert_exporter": "python",
   "pygments_lexer": "ipython3",
   "version": "3.9.7"
  }
 },
 "nbformat": 4,
 "nbformat_minor": 5
}
